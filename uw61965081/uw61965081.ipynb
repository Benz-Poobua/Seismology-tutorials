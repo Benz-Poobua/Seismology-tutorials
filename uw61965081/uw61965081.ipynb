{
 "cells": [
  {
   "cell_type": "code",
   "execution_count": null,
   "metadata": {},
   "outputs": [],
   "source": [
    "%cd ~/Desktop/MTUQ_project/content/workdir/data\n",
    "!cp pysep_config.yaml ~/Desktop/2023_10_09_WASHINGTON.yaml"
   ]
  }
 ],
 "metadata": {
  "kernelspec": {
   "display_name": "base",
   "language": "python",
   "name": "python3"
  },
  "language_info": {
   "name": "python",
   "version": "3.12.2"
  }
 },
 "nbformat": 4,
 "nbformat_minor": 2
}
